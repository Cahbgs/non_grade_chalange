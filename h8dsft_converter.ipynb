{
 "cells": [
  {
   "cell_type": "code",
   "execution_count": 2,
   "id": "319245ef",
   "metadata": {},
   "outputs": [
    {
     "name": "stdout",
     "output_type": "stream",
     "text": [
      "indeks satuan\n",
      "satuan suhu :   celcius  \t indeks :  c\n",
      "satuan suhu :   kelvin  \t indeks :  k\n",
      "satuan suhu :   fahrenheit  \t indeks :  F\n",
      "Masukan Suhu : 5\n",
      "masukkan indeks satuan skala suhu : c\n",
      "5.0 derajat celcius : \n",
      "Kelvin = 278.0 K\n",
      "fahrenheit = 41.0 F\n"
     ]
    }
   ],
   "source": [
    "#parameter dictionary\n",
    "indeks = {\n",
    "    \" celcius \":\"c\",\n",
    "    \" kelvin \":\"k\",\n",
    "    \" fahrenheit \":\"F\"\n",
    "}\n",
    "print (\"indeks satuan\")\n",
    "\n",
    "for i in indeks:\n",
    "  print(\"satuan suhu : \", i, \"\\t indeks : \", indeks[i]) #menampilkan indeks\n",
    "\n",
    "#parameter suhu yang akan diconvert\n",
    "suhu = float(input(\"Masukan Suhu : \"))                  #parameter input suhu\n",
    "satuan = input(\"masukkan indeks satuan skala suhu : \")  #parameter input satuan (temperatur)\n",
    "\n",
    "#function temperatur condition\n",
    "if (satuan ==\"c\"):                                 #condition 1\n",
    "  print(suhu, \"derajat celcius : \")\n",
    "  print(\"Kelvin =\",(suhu+273),\"K\")                 #celcius to kelvin\n",
    "  print(\"fahrenheit =\",((9 / 5) * suhu + 32),\"F\")  #celcius to fahrenheit\n",
    "\n",
    "elif (satuan ==\"k\"):                                     #condition 2\n",
    "  print(suhu, \"derajat kelvin : \")\n",
    "  print(\"Celcius =\",(suhu-273),\"C\")                      #kelvin to celcius\n",
    "  print(\"fahrenheit =\",(9 / 5) * (suhu - 273) + 32,\"F\")  #kelvin to fahrenheit\n",
    "\n",
    "elif (satuan ==\"f\"):\n",
    "  print(suhu, \"derajat fahrenheit : \")                   #condition 3\n",
    "  print(\"Celcius =\",(5 / 9) * (suhu - 32),\"C\")           #fahrenheit to celcius\n",
    "  print(\"kelvin =\",(5 / 9) * (suhu - 32) + 273,\"K\")      #fahrenhheit to kelvin\n",
    "\n",
    "else :                                                   #false condition\n",
    "    print (\"indeks yang anda masukan salah\")\n",
    "\n",
    "  "
   ]
  }
 ],
 "metadata": {
  "kernelspec": {
   "display_name": "Python 3 (ipykernel)",
   "language": "python",
   "name": "python3"
  },
  "language_info": {
   "codemirror_mode": {
    "name": "ipython",
    "version": 3
   },
   "file_extension": ".py",
   "mimetype": "text/x-python",
   "name": "python",
   "nbconvert_exporter": "python",
   "pygments_lexer": "ipython3",
   "version": "3.9.13"
  }
 },
 "nbformat": 4,
 "nbformat_minor": 5
}
